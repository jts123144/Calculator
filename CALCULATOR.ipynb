{
 "cells": [
  {
   "cell_type": "code",
   "execution_count": null,
   "metadata": {},
   "outputs": [],
   "source": [
    "from tkinter import*\n",
    "def btnClick(numbers):\n",
    "    global operator\n",
    "    operator=operator+str(numbers)\n",
    "    text_input.set(operator)\n",
    "def btnClearDisplay():\n",
    "    global operator\n",
    "    operator=\"\"\n",
    "    text_input.set(\"\")\n",
    "def btnEqualinput():\n",
    "    global operator\n",
    "    sumup=eval(operator)\n",
    "    text_input.set(sumup)\n",
    "    operator=\"\"\n",
    "    \n",
    "cal=Tk()\n",
    "cal.title(\"calculator\")\n",
    "operator=\"\"\n",
    "text_input=StringVar()\n",
    "txtDisplay=Entry(cal,font=('arial',20,'bold'),\n",
    "textvariable=text_input,bd=30,insertwidth=4,bg=\"powder blue\",justify='right').grid(columnspan=4) \n",
    "btn7=Button(cal,padx=16,pady=16,bd=8,fg=\"White\",font=('arial',20,'bold'),\n",
    "text=\"7\",bg=\"Navy blue\",command=lambda:btnClick(7)).grid(row=1,column=0)  \n",
    "btn8=Button(cal,padx=16,pady=16,bd=8,fg=\"White\",font=('arial',20,'bold'),\n",
    "text=\"8\",bg=\"Navy blue\",command=lambda:btnClick(8)).grid(row=1,column=1) \n",
    "btn9=Button(cal,padx=16,pady=16,bd=8,fg=\"White\",font=('arial',20,'bold'),\n",
    "text=\"9\",bg=\"Navy blue\",command=lambda:btnClick(9)).grid(row=1,column=2)\n",
    "btnadd=Button(cal,padx=16,pady=16,bd=8,fg=\"White\",font=('arial',20,'bold'),\n",
    "text=\"+\",bg=\"Navy blue\",command=lambda:btnClick(\"+\")).grid(row=1,column=3)\n",
    "btn4=Button(cal,padx=16,pady=16,bd=8,fg=\"White\",font=('arial',20,'bold'),\n",
    "text=\"4\",bg=\"Navy blue\",command=lambda:btnClick(4)).grid(row=2,column=0)\n",
    "btn5=Button(cal,padx=16,pady=16,bd=8,fg=\"White\",font=('arial',20,'bold'),\n",
    "text=\"5\",bg=\"Navy blue\",command=lambda:btnClick(5)).grid(row=2,column=1)\n",
    "btn6=Button(cal,padx=16,pady=16,bd=8,fg=\"White\",font=('arial',20,'bold'),\n",
    "text=\"6\",bg=\"Navy blue\",command=lambda:btnClick(6)).grid(row=2,column=2)\n",
    "btnsub=Button(cal,padx=16,pady=16,bd=8,fg=\"White\",font=('arial',20,'bold'),\n",
    "text=\"-\",bg=\"Navy blue\",command=lambda:btnClick('-')).grid(row=2,column=3)\n",
    "btn1=Button(cal,padx=16,pady=16,bd=8,fg=\"White\",font=('arial',20,'bold'),\n",
    "text=\"1\",bg=\"Navy blue\",command=lambda:btnClick(1)).grid(row=3,column=0)\n",
    "btn2=Button(cal,padx=16,pady=16,bd=8,fg=\"White\",font=('arial',20,'bold'),\n",
    "text=\"2\",bg=\"Navy blue\",command=lambda:btnClick(2)).grid(row=3,column=1)\n",
    "btn3=Button(cal,padx=16,pady=16,bd=8,fg=\"White\",font=('arial',20,'bold'),\n",
    "text=\"3\",bg=\"Navy blue\",command=lambda:btnClick(3)).grid(row=3,column=2)\n",
    "btnmul=Button(cal,padx=16,pady=16,bd=8,fg=\"White\",font=('arial',20,'bold'),\n",
    "text=\"*\",bg=\"Navy blue\",command=lambda:btnClick('*')).grid(row=3,column=3)\n",
    "btn0=Button(cal,padx=16,pady=16,bd=8,fg=\"White\",font=('arial',20,'bold'),\n",
    "text=\"0\",bg=\"Navy blue\",command=lambda:btnClick(0)).grid(row=4,column=0)\n",
    "btnClearDisplay=Button(cal,padx=16,pady=16,bd=8,fg=\"White\",font=('arial',20,'bold'),\n",
    "text=\"C\",bg=\"Navy blue\",command=btnClearDisplay).grid(row=4,column=1)\n",
    "btnEqualinput=Button(cal,padx=16,pady=16,bd=8,fg=\"White\",font=('arial',20,'bold'),\n",
    "text=\"=\",bg=\"Navy blue\",command=btnEqualinput).grid(row=4,column=2)\n",
    "btndiv=Button(cal,padx=16,pady=16,bd=8,fg=\"White\",font=('arial',20,'bold'),\n",
    "text=\"/\",bg=\"Navy blue\",command=lambda:btnClick('/')).grid(row=4,column=3) \n",
    "                     \n",
    "                     \n",
    "cal.mainloop()"
   ]
  },
  {
   "cell_type": "code",
   "execution_count": null,
   "metadata": {},
   "outputs": [],
   "source": []
  }
 ],
 "metadata": {
  "kernelspec": {
   "display_name": "Python 3",
   "language": "python",
   "name": "python3"
  },
  "language_info": {
   "codemirror_mode": {
    "name": "ipython",
    "version": 3
   },
   "file_extension": ".py",
   "mimetype": "text/x-python",
   "name": "python",
   "nbconvert_exporter": "python",
   "pygments_lexer": "ipython3",
   "version": "3.7.3"
  }
 },
 "nbformat": 4,
 "nbformat_minor": 2
}
